{
 "cells": [
  {
   "cell_type": "markdown",
   "metadata": {},
   "source": [
    "# Data Project 3 - Tanzanian Water-Sources\n",
    "\n",
    "We have extensive data provided by the Tanzanian government which collects information from each water source in the country which includes whether the wells are working or not working/need repair. We will use these data to create a predictive model that can predict the likelihood that water sources need maintenance."
   ]
  },
  {
   "cell_type": "code",
   "execution_count": 1,
   "metadata": {},
   "outputs": [],
   "source": [
    "import numpy as np\n",
    "import pandas as pd\n",
    "import seaborn as sns\n",
    "import matplotlib.pyplot as plt\n",
    "from sklearn.pipeline import Pipeline\n",
    "from sklearn.model_selection import train_test_split\n",
    "from sklearn.preprocessing import OneHotEncoder, StandardScaler\n",
    "from sklearn.impute import SimpleImputer\n",
    "from sklearn.compose import ColumnTransformer\n",
    "from sklearn.metrics import plot_confusion_matrix,accuracy_score, roc_curve,classification_report"
   ]
  },
  {
   "cell_type": "code",
   "execution_count": 2,
   "metadata": {},
   "outputs": [],
   "source": [
    "\n",
    "X=pd.read_csv('Training_set_values.csv')\n",
    "y=pd.DataFrame(pd.read_csv('Training_set_labels.csv')['status_group'],columns = ['status_group'])\n",
    "df = pd.concat([X,y.status_group],axis=1)\n",
    "y['status_group'] = y.status_group.map({'functional':0,'non functional':1,'functional needs repair':1}).astype('int8')\n",
    "X_submit = pd.read_csv('Test_set_values.csv')"
   ]
  },
  {
   "cell_type": "markdown",
   "metadata": {},
   "source": [
    "## Train-Test Split\n",
    "\n",
    "We will start by test/train splitting our data for our predictive models"
   ]
  },
  {
   "cell_type": "code",
   "execution_count": 3,
   "metadata": {},
   "outputs": [],
   "source": [
    "X_train, X_test, y_train, y_test = train_test_split(X,y,test_size = 0.2)"
   ]
  },
  {
   "cell_type": "markdown",
   "metadata": {},
   "source": [
    "## EDA\n",
    "\n",
    "We can look for problems with our data types, incomplete data and other issues."
   ]
  },
  {
   "cell_type": "code",
   "execution_count": 4,
   "metadata": {},
   "outputs": [
    {
     "name": "stdout",
     "output_type": "stream",
     "text": [
      "<class 'pandas.core.frame.DataFrame'>\n",
      "RangeIndex: 59400 entries, 0 to 59399\n",
      "Data columns (total 41 columns):\n",
      " #   Column                 Non-Null Count  Dtype  \n",
      "---  ------                 --------------  -----  \n",
      " 0   id                     59400 non-null  int64  \n",
      " 1   amount_tsh             59400 non-null  float64\n",
      " 2   date_recorded          59400 non-null  object \n",
      " 3   funder                 55765 non-null  object \n",
      " 4   gps_height             59400 non-null  int64  \n",
      " 5   installer              55745 non-null  object \n",
      " 6   longitude              59400 non-null  float64\n",
      " 7   latitude               59400 non-null  float64\n",
      " 8   wpt_name               59400 non-null  object \n",
      " 9   num_private            59400 non-null  int64  \n",
      " 10  basin                  59400 non-null  object \n",
      " 11  subvillage             59029 non-null  object \n",
      " 12  region                 59400 non-null  object \n",
      " 13  region_code            59400 non-null  int64  \n",
      " 14  district_code          59400 non-null  int64  \n",
      " 15  lga                    59400 non-null  object \n",
      " 16  ward                   59400 non-null  object \n",
      " 17  population             59400 non-null  int64  \n",
      " 18  public_meeting         56066 non-null  object \n",
      " 19  recorded_by            59400 non-null  object \n",
      " 20  scheme_management      55523 non-null  object \n",
      " 21  scheme_name            31234 non-null  object \n",
      " 22  permit                 56344 non-null  object \n",
      " 23  construction_year      59400 non-null  int64  \n",
      " 24  extraction_type        59400 non-null  object \n",
      " 25  extraction_type_group  59400 non-null  object \n",
      " 26  extraction_type_class  59400 non-null  object \n",
      " 27  management             59400 non-null  object \n",
      " 28  management_group       59400 non-null  object \n",
      " 29  payment                59400 non-null  object \n",
      " 30  payment_type           59400 non-null  object \n",
      " 31  water_quality          59400 non-null  object \n",
      " 32  quality_group          59400 non-null  object \n",
      " 33  quantity               59400 non-null  object \n",
      " 34  quantity_group         59400 non-null  object \n",
      " 35  source                 59400 non-null  object \n",
      " 36  source_type            59400 non-null  object \n",
      " 37  source_class           59400 non-null  object \n",
      " 38  waterpoint_type        59400 non-null  object \n",
      " 39  waterpoint_type_group  59400 non-null  object \n",
      " 40  status_group           59400 non-null  object \n",
      "dtypes: float64(3), int64(7), object(31)\n",
      "memory usage: 18.6+ MB\n"
     ]
    }
   ],
   "source": [
    "df.info()"
   ]
  },
  {
   "cell_type": "code",
   "execution_count": 5,
   "metadata": {},
   "outputs": [
    {
     "data": {
      "text/html": [
       "<div>\n",
       "<style scoped>\n",
       "    .dataframe tbody tr th:only-of-type {\n",
       "        vertical-align: middle;\n",
       "    }\n",
       "\n",
       "    .dataframe tbody tr th {\n",
       "        vertical-align: top;\n",
       "    }\n",
       "\n",
       "    .dataframe thead th {\n",
       "        text-align: right;\n",
       "    }\n",
       "</style>\n",
       "<table border=\"1\" class=\"dataframe\">\n",
       "  <thead>\n",
       "    <tr style=\"text-align: right;\">\n",
       "      <th></th>\n",
       "      <th>value</th>\n",
       "    </tr>\n",
       "  </thead>\n",
       "  <tbody>\n",
       "    <tr>\n",
       "      <th>id</th>\n",
       "      <td>1</td>\n",
       "    </tr>\n",
       "    <tr>\n",
       "      <th>amount_tsh</th>\n",
       "      <td>41639</td>\n",
       "    </tr>\n",
       "    <tr>\n",
       "      <th>gps_height</th>\n",
       "      <td>20438</td>\n",
       "    </tr>\n",
       "    <tr>\n",
       "      <th>longitude</th>\n",
       "      <td>1812</td>\n",
       "    </tr>\n",
       "    <tr>\n",
       "      <th>num_private</th>\n",
       "      <td>58643</td>\n",
       "    </tr>\n",
       "    <tr>\n",
       "      <th>district_code</th>\n",
       "      <td>23</td>\n",
       "    </tr>\n",
       "    <tr>\n",
       "      <th>population</th>\n",
       "      <td>21381</td>\n",
       "    </tr>\n",
       "    <tr>\n",
       "      <th>public_meeting</th>\n",
       "      <td>5055</td>\n",
       "    </tr>\n",
       "    <tr>\n",
       "      <th>permit</th>\n",
       "      <td>17492</td>\n",
       "    </tr>\n",
       "    <tr>\n",
       "      <th>construction_year</th>\n",
       "      <td>20709</td>\n",
       "    </tr>\n",
       "  </tbody>\n",
       "</table>\n",
       "</div>"
      ],
      "text/plain": [
       "                   value\n",
       "id                     1\n",
       "amount_tsh         41639\n",
       "gps_height         20438\n",
       "longitude           1812\n",
       "num_private        58643\n",
       "district_code         23\n",
       "population         21381\n",
       "public_meeting      5055\n",
       "permit             17492\n",
       "construction_year  20709"
      ]
     },
     "execution_count": 5,
     "metadata": {},
     "output_type": "execute_result"
    }
   ],
   "source": [
    "nils = pd.DataFrame(df.isin([0]).sum(),columns=['value'])\n",
    "nils[nils['value']>0]\n"
   ]
  },
  {
   "cell_type": "code",
   "execution_count": 6,
   "metadata": {},
   "outputs": [
    {
     "data": {
      "text/html": [
       "<div>\n",
       "<style scoped>\n",
       "    .dataframe tbody tr th:only-of-type {\n",
       "        vertical-align: middle;\n",
       "    }\n",
       "\n",
       "    .dataframe tbody tr th {\n",
       "        vertical-align: top;\n",
       "    }\n",
       "\n",
       "    .dataframe thead th {\n",
       "        text-align: right;\n",
       "    }\n",
       "</style>\n",
       "<table border=\"1\" class=\"dataframe\">\n",
       "  <thead>\n",
       "    <tr style=\"text-align: right;\">\n",
       "      <th></th>\n",
       "      <th>value</th>\n",
       "    </tr>\n",
       "  </thead>\n",
       "  <tbody>\n",
       "    <tr>\n",
       "      <th>funder</th>\n",
       "      <td>3635</td>\n",
       "    </tr>\n",
       "    <tr>\n",
       "      <th>installer</th>\n",
       "      <td>3655</td>\n",
       "    </tr>\n",
       "    <tr>\n",
       "      <th>subvillage</th>\n",
       "      <td>371</td>\n",
       "    </tr>\n",
       "    <tr>\n",
       "      <th>public_meeting</th>\n",
       "      <td>3334</td>\n",
       "    </tr>\n",
       "    <tr>\n",
       "      <th>scheme_management</th>\n",
       "      <td>3877</td>\n",
       "    </tr>\n",
       "    <tr>\n",
       "      <th>scheme_name</th>\n",
       "      <td>28166</td>\n",
       "    </tr>\n",
       "    <tr>\n",
       "      <th>permit</th>\n",
       "      <td>3056</td>\n",
       "    </tr>\n",
       "  </tbody>\n",
       "</table>\n",
       "</div>"
      ],
      "text/plain": [
       "                   value\n",
       "funder              3635\n",
       "installer           3655\n",
       "subvillage           371\n",
       "public_meeting      3334\n",
       "scheme_management   3877\n",
       "scheme_name        28166\n",
       "permit              3056"
      ]
     },
     "execution_count": 6,
     "metadata": {},
     "output_type": "execute_result"
    }
   ],
   "source": [
    "nulls = pd.DataFrame(df.isnull().sum(),columns=['value'])\n",
    "nulls[nulls['value']>0]"
   ]
  },
  {
   "cell_type": "code",
   "execution_count": 7,
   "metadata": {},
   "outputs": [
    {
     "data": {
      "text/html": [
       "<div>\n",
       "<style scoped>\n",
       "    .dataframe tbody tr th:only-of-type {\n",
       "        vertical-align: middle;\n",
       "    }\n",
       "\n",
       "    .dataframe tbody tr th {\n",
       "        vertical-align: top;\n",
       "    }\n",
       "\n",
       "    .dataframe thead th {\n",
       "        text-align: right;\n",
       "    }\n",
       "</style>\n",
       "<table border=\"1\" class=\"dataframe\">\n",
       "  <thead>\n",
       "    <tr style=\"text-align: right;\">\n",
       "      <th></th>\n",
       "      <th>id</th>\n",
       "      <th>amount_tsh</th>\n",
       "      <th>gps_height</th>\n",
       "      <th>longitude</th>\n",
       "      <th>latitude</th>\n",
       "      <th>num_private</th>\n",
       "      <th>region_code</th>\n",
       "      <th>district_code</th>\n",
       "      <th>population</th>\n",
       "      <th>construction_year</th>\n",
       "    </tr>\n",
       "  </thead>\n",
       "  <tbody>\n",
       "    <tr>\n",
       "      <th>count</th>\n",
       "      <td>59400.000000</td>\n",
       "      <td>59400.000000</td>\n",
       "      <td>59400.000000</td>\n",
       "      <td>59400.000000</td>\n",
       "      <td>5.940000e+04</td>\n",
       "      <td>59400.000000</td>\n",
       "      <td>59400.000000</td>\n",
       "      <td>59400.000000</td>\n",
       "      <td>59400.000000</td>\n",
       "      <td>59400.000000</td>\n",
       "    </tr>\n",
       "    <tr>\n",
       "      <th>mean</th>\n",
       "      <td>37115.131768</td>\n",
       "      <td>317.650385</td>\n",
       "      <td>668.297239</td>\n",
       "      <td>34.077427</td>\n",
       "      <td>-5.706033e+00</td>\n",
       "      <td>0.474141</td>\n",
       "      <td>15.297003</td>\n",
       "      <td>5.629747</td>\n",
       "      <td>179.909983</td>\n",
       "      <td>1300.652475</td>\n",
       "    </tr>\n",
       "    <tr>\n",
       "      <th>std</th>\n",
       "      <td>21453.128371</td>\n",
       "      <td>2997.574558</td>\n",
       "      <td>693.116350</td>\n",
       "      <td>6.567432</td>\n",
       "      <td>2.946019e+00</td>\n",
       "      <td>12.236230</td>\n",
       "      <td>17.587406</td>\n",
       "      <td>9.633649</td>\n",
       "      <td>471.482176</td>\n",
       "      <td>951.620547</td>\n",
       "    </tr>\n",
       "    <tr>\n",
       "      <th>min</th>\n",
       "      <td>0.000000</td>\n",
       "      <td>0.000000</td>\n",
       "      <td>-90.000000</td>\n",
       "      <td>0.000000</td>\n",
       "      <td>-1.164944e+01</td>\n",
       "      <td>0.000000</td>\n",
       "      <td>1.000000</td>\n",
       "      <td>0.000000</td>\n",
       "      <td>0.000000</td>\n",
       "      <td>0.000000</td>\n",
       "    </tr>\n",
       "    <tr>\n",
       "      <th>25%</th>\n",
       "      <td>18519.750000</td>\n",
       "      <td>0.000000</td>\n",
       "      <td>0.000000</td>\n",
       "      <td>33.090347</td>\n",
       "      <td>-8.540621e+00</td>\n",
       "      <td>0.000000</td>\n",
       "      <td>5.000000</td>\n",
       "      <td>2.000000</td>\n",
       "      <td>0.000000</td>\n",
       "      <td>0.000000</td>\n",
       "    </tr>\n",
       "    <tr>\n",
       "      <th>50%</th>\n",
       "      <td>37061.500000</td>\n",
       "      <td>0.000000</td>\n",
       "      <td>369.000000</td>\n",
       "      <td>34.908743</td>\n",
       "      <td>-5.021597e+00</td>\n",
       "      <td>0.000000</td>\n",
       "      <td>12.000000</td>\n",
       "      <td>3.000000</td>\n",
       "      <td>25.000000</td>\n",
       "      <td>1986.000000</td>\n",
       "    </tr>\n",
       "    <tr>\n",
       "      <th>75%</th>\n",
       "      <td>55656.500000</td>\n",
       "      <td>20.000000</td>\n",
       "      <td>1319.250000</td>\n",
       "      <td>37.178387</td>\n",
       "      <td>-3.326156e+00</td>\n",
       "      <td>0.000000</td>\n",
       "      <td>17.000000</td>\n",
       "      <td>5.000000</td>\n",
       "      <td>215.000000</td>\n",
       "      <td>2004.000000</td>\n",
       "    </tr>\n",
       "    <tr>\n",
       "      <th>max</th>\n",
       "      <td>74247.000000</td>\n",
       "      <td>350000.000000</td>\n",
       "      <td>2770.000000</td>\n",
       "      <td>40.345193</td>\n",
       "      <td>-2.000000e-08</td>\n",
       "      <td>1776.000000</td>\n",
       "      <td>99.000000</td>\n",
       "      <td>80.000000</td>\n",
       "      <td>30500.000000</td>\n",
       "      <td>2013.000000</td>\n",
       "    </tr>\n",
       "  </tbody>\n",
       "</table>\n",
       "</div>"
      ],
      "text/plain": [
       "                 id     amount_tsh    gps_height     longitude      latitude  \\\n",
       "count  59400.000000   59400.000000  59400.000000  59400.000000  5.940000e+04   \n",
       "mean   37115.131768     317.650385    668.297239     34.077427 -5.706033e+00   \n",
       "std    21453.128371    2997.574558    693.116350      6.567432  2.946019e+00   \n",
       "min        0.000000       0.000000    -90.000000      0.000000 -1.164944e+01   \n",
       "25%    18519.750000       0.000000      0.000000     33.090347 -8.540621e+00   \n",
       "50%    37061.500000       0.000000    369.000000     34.908743 -5.021597e+00   \n",
       "75%    55656.500000      20.000000   1319.250000     37.178387 -3.326156e+00   \n",
       "max    74247.000000  350000.000000   2770.000000     40.345193 -2.000000e-08   \n",
       "\n",
       "        num_private   region_code  district_code    population  \\\n",
       "count  59400.000000  59400.000000   59400.000000  59400.000000   \n",
       "mean       0.474141     15.297003       5.629747    179.909983   \n",
       "std       12.236230     17.587406       9.633649    471.482176   \n",
       "min        0.000000      1.000000       0.000000      0.000000   \n",
       "25%        0.000000      5.000000       2.000000      0.000000   \n",
       "50%        0.000000     12.000000       3.000000     25.000000   \n",
       "75%        0.000000     17.000000       5.000000    215.000000   \n",
       "max     1776.000000     99.000000      80.000000  30500.000000   \n",
       "\n",
       "       construction_year  \n",
       "count       59400.000000  \n",
       "mean         1300.652475  \n",
       "std           951.620547  \n",
       "min             0.000000  \n",
       "25%             0.000000  \n",
       "50%          1986.000000  \n",
       "75%          2004.000000  \n",
       "max          2013.000000  "
      ]
     },
     "execution_count": 7,
     "metadata": {},
     "output_type": "execute_result"
    }
   ],
   "source": [
    "df.describe()"
   ]
  },
  {
   "cell_type": "code",
   "execution_count": 8,
   "metadata": {},
   "outputs": [
    {
     "data": {
      "text/plain": [
       "construction_year\n",
       "0       20709\n",
       "1960      102\n",
       "1961       21\n",
       "1962       30\n",
       "1963       85\n",
       "1964       40\n",
       "1965       19\n",
       "1966       17\n",
       "1967       88\n",
       "1968       77\n",
       "1969       59\n",
       "1970      411\n",
       "1971      145\n",
       "1972      708\n",
       "1973      184\n",
       "1974      676\n",
       "1975      437\n",
       "1976      414\n",
       "1977      202\n",
       "1978     1037\n",
       "1979      192\n",
       "1980      811\n",
       "1981      238\n",
       "1982      744\n",
       "1983      488\n",
       "1984      779\n",
       "1985      945\n",
       "1986      434\n",
       "1987      302\n",
       "1988      521\n",
       "1989      316\n",
       "1990      954\n",
       "1991      324\n",
       "1992      640\n",
       "1993      608\n",
       "1994      738\n",
       "1995     1014\n",
       "1996      811\n",
       "1997      644\n",
       "1998      966\n",
       "1999      979\n",
       "2000     2091\n",
       "2001      540\n",
       "2002     1075\n",
       "2003     1286\n",
       "2004     1123\n",
       "2005     1011\n",
       "2006     1471\n",
       "2007     1587\n",
       "2008     2613\n",
       "2009     2533\n",
       "2010     2645\n",
       "2011     1256\n",
       "2012     1084\n",
       "2013      176\n",
       "Name: construction_year, dtype: int64"
      ]
     },
     "execution_count": 8,
     "metadata": {},
     "output_type": "execute_result"
    }
   ],
   "source": [
    "df.groupby(['construction_year'])['construction_year'].count()"
   ]
  },
  {
   "cell_type": "markdown",
   "metadata": {},
   "source": [
    "construction_year has lots of 0s which indicate missing values"
   ]
  },
  {
   "cell_type": "code",
   "execution_count": 9,
   "metadata": {},
   "outputs": [
    {
     "name": "stdout",
     "output_type": "stream",
     "text": [
      "date_recorded \n",
      " 2011-03-15    572\n",
      "2011-03-17    558\n",
      "2013-02-03    546\n",
      "2011-03-14    520\n",
      "2011-03-16    513\n",
      "             ... \n",
      "2002-10-14      1\n",
      "2004-01-07      1\n",
      "2004-07-01      1\n",
      "2011-09-11      1\n",
      "2013-12-01      1\n",
      "Name: date_recorded, Length: 356, dtype: int64 \n",
      "\n",
      "funder \n",
      " Government Of Tanzania    9084\n",
      "Danida                    3114\n",
      "Hesawa                    2202\n",
      "Rwssp                     1374\n",
      "World Bank                1349\n",
      "                          ... \n",
      "Rumaki                       1\n",
      "Eastmeru Medium School       1\n",
      "Wilson                       1\n",
      "Norway Aid                   1\n",
      "Samlo                        1\n",
      "Name: funder, Length: 1897, dtype: int64 \n",
      "\n",
      "installer \n",
      " DWE              17402\n",
      "Government        1825\n",
      "RWE               1206\n",
      "Commu             1060\n",
      "DANIDA            1050\n",
      "                 ...  \n",
      "Monmali              1\n",
      "B.A.P                1\n",
      "Tasaf and Lga        1\n",
      "Water Hu             1\n",
      "SELEPTA              1\n",
      "Name: installer, Length: 2145, dtype: int64 \n",
      "\n",
      "wpt_name \n",
      " none                       3563\n",
      "Shuleni                    1748\n",
      "Zahanati                    830\n",
      "Msikitini                   535\n",
      "Kanisani                    323\n",
      "                           ... \n",
      "Shule Ya Msingi Milanzi       1\n",
      "Kwa Msosa Kalanje             1\n",
      "Chum                          1\n",
      "Kwa Madeshi                   1\n",
      "Kwa Stephano Gulet            1\n",
      "Name: wpt_name, Length: 37400, dtype: int64 \n",
      "\n",
      "basin \n",
      " Lake Victoria              10248\n",
      "Pangani                     8940\n",
      "Rufiji                      7976\n",
      "Internal                    7785\n",
      "Lake Tanganyika             6432\n",
      "Wami / Ruvu                 5987\n",
      "Lake Nyasa                  5085\n",
      "Ruvuma / Southern Coast     4493\n",
      "Lake Rukwa                  2454\n",
      "Name: basin, dtype: int64 \n",
      "\n",
      "subvillage \n",
      " Madukani        508\n",
      "Shuleni         506\n",
      "Majengo         502\n",
      "Kati            373\n",
      "Mtakuja         262\n",
      "               ... \n",
      "Nkui              1\n",
      "Katandara B       1\n",
      "Chandulik         1\n",
      "Nyamaraga         1\n",
      "Kikatanyemba      1\n",
      "Name: subvillage, Length: 19287, dtype: int64 \n",
      "\n",
      "region \n",
      " Iringa           5294\n",
      "Shinyanga        4982\n",
      "Mbeya            4639\n",
      "Kilimanjaro      4379\n",
      "Morogoro         4006\n",
      "Arusha           3350\n",
      "Kagera           3316\n",
      "Mwanza           3102\n",
      "Kigoma           2816\n",
      "Ruvuma           2640\n",
      "Pwani            2635\n",
      "Tanga            2547\n",
      "Dodoma           2201\n",
      "Singida          2093\n",
      "Mara             1969\n",
      "Tabora           1959\n",
      "Rukwa            1808\n",
      "Mtwara           1730\n",
      "Manyara          1583\n",
      "Lindi            1546\n",
      "Dar es Salaam     805\n",
      "Name: region, dtype: int64 \n",
      "\n",
      "lga \n",
      " Njombe          2503\n",
      "Arusha Rural    1252\n",
      "Moshi Rural     1251\n",
      "Bariadi         1177\n",
      "Rungwe          1106\n",
      "                ... \n",
      "Moshi Urban       79\n",
      "Kigoma Urban      71\n",
      "Arusha Urban      63\n",
      "Lindi Urban       21\n",
      "Nyamagana          1\n",
      "Name: lga, Length: 125, dtype: int64 \n",
      "\n",
      "ward \n",
      " Igosi        307\n",
      "Imalinyi     252\n",
      "Siha Kati    232\n",
      "Mdandu       231\n",
      "Nduruma      217\n",
      "            ... \n",
      "Ifinga         1\n",
      "Rasbura        1\n",
      "Mkumbi         1\n",
      "Kapilula       1\n",
      "Kinungu        1\n",
      "Name: ward, Length: 2092, dtype: int64 \n",
      "\n",
      "public_meeting \n",
      " True     51011\n",
      "False     5055\n",
      "Name: public_meeting, dtype: int64 \n",
      "\n",
      "recorded_by \n",
      " GeoData Consultants Ltd    59400\n",
      "Name: recorded_by, dtype: int64 \n",
      "\n",
      "scheme_management \n",
      " VWC                 36793\n",
      "WUG                  5206\n",
      "Water authority      3153\n",
      "WUA                  2883\n",
      "Water Board          2748\n",
      "Parastatal           1680\n",
      "Private operator     1063\n",
      "Company              1061\n",
      "Other                 766\n",
      "SWC                    97\n",
      "Trust                  72\n",
      "None                    1\n",
      "Name: scheme_management, dtype: int64 \n",
      "\n",
      "scheme_name \n",
      " K                       682\n",
      "None                    644\n",
      "Borehole                546\n",
      "Chalinze wate           405\n",
      "M                       400\n",
      "                       ... \n",
      "Burieni water supply      1\n",
      "Visiga water supplly      1\n",
      "Mradi wa maji Vijini      1\n",
      "Villagers                 1\n",
      "Mtawanya                  1\n",
      "Name: scheme_name, Length: 2696, dtype: int64 \n",
      "\n",
      "permit \n",
      " True     38852\n",
      "False    17492\n",
      "Name: permit, dtype: int64 \n",
      "\n",
      "extraction_type \n",
      " gravity                      26780\n",
      "nira/tanira                   8154\n",
      "other                         6430\n",
      "submersible                   4764\n",
      "swn 80                        3670\n",
      "mono                          2865\n",
      "india mark ii                 2400\n",
      "afridev                       1770\n",
      "ksb                           1415\n",
      "other - rope pump              451\n",
      "other - swn 81                 229\n",
      "windmill                       117\n",
      "india mark iii                  98\n",
      "cemo                            90\n",
      "other - play pump               85\n",
      "walimi                          48\n",
      "climax                          32\n",
      "other - mkulima/shinyanga        2\n",
      "Name: extraction_type, dtype: int64 \n",
      "\n",
      "extraction_type_group \n",
      " gravity            26780\n",
      "nira/tanira         8154\n",
      "other               6430\n",
      "submersible         6179\n",
      "swn 80              3670\n",
      "mono                2865\n",
      "india mark ii       2400\n",
      "afridev             1770\n",
      "rope pump            451\n",
      "other handpump       364\n",
      "other motorpump      122\n",
      "wind-powered         117\n",
      "india mark iii        98\n",
      "Name: extraction_type_group, dtype: int64 \n",
      "\n",
      "extraction_type_class \n",
      " gravity         26780\n",
      "handpump        16456\n",
      "other            6430\n",
      "submersible      6179\n",
      "motorpump        2987\n",
      "rope pump         451\n",
      "wind-powered      117\n",
      "Name: extraction_type_class, dtype: int64 \n",
      "\n",
      "management \n",
      " vwc                 40507\n",
      "wug                  6515\n",
      "water board          2933\n",
      "wua                  2535\n",
      "private operator     1971\n",
      "parastatal           1768\n",
      "water authority       904\n",
      "other                 844\n",
      "company               685\n",
      "unknown               561\n",
      "other - school         99\n",
      "trust                  78\n",
      "Name: management, dtype: int64 \n",
      "\n",
      "management_group \n",
      " user-group    52490\n",
      "commercial     3638\n",
      "parastatal     1768\n",
      "other           943\n",
      "unknown         561\n",
      "Name: management_group, dtype: int64 \n",
      "\n",
      "payment \n",
      " never pay                25348\n",
      "pay per bucket            8985\n",
      "pay monthly               8300\n",
      "unknown                   8157\n",
      "pay when scheme fails     3914\n",
      "pay annually              3642\n",
      "other                     1054\n",
      "Name: payment, dtype: int64 \n",
      "\n",
      "payment_type \n",
      " never pay     25348\n",
      "per bucket     8985\n",
      "monthly        8300\n",
      "unknown        8157\n",
      "on failure     3914\n",
      "annually       3642\n",
      "other          1054\n",
      "Name: payment_type, dtype: int64 \n",
      "\n",
      "water_quality \n",
      " soft                  50818\n",
      "salty                  4856\n",
      "unknown                1876\n",
      "milky                   804\n",
      "coloured                490\n",
      "salty abandoned         339\n",
      "fluoride                200\n",
      "fluoride abandoned       17\n",
      "Name: water_quality, dtype: int64 \n",
      "\n",
      "quality_group \n",
      " good        50818\n",
      "salty        5195\n",
      "unknown      1876\n",
      "milky         804\n",
      "colored       490\n",
      "fluoride      217\n",
      "Name: quality_group, dtype: int64 \n",
      "\n",
      "quantity \n",
      " enough          33186\n",
      "insufficient    15129\n",
      "dry              6246\n",
      "seasonal         4050\n",
      "unknown           789\n",
      "Name: quantity, dtype: int64 \n",
      "\n",
      "quantity_group \n",
      " enough          33186\n",
      "insufficient    15129\n",
      "dry              6246\n",
      "seasonal         4050\n",
      "unknown           789\n",
      "Name: quantity_group, dtype: int64 \n",
      "\n",
      "source \n",
      " spring                  17021\n",
      "shallow well            16824\n",
      "machine dbh             11075\n",
      "river                    9612\n",
      "rainwater harvesting     2295\n",
      "hand dtw                  874\n",
      "lake                      765\n",
      "dam                       656\n",
      "other                     212\n",
      "unknown                    66\n",
      "Name: source, dtype: int64 \n",
      "\n",
      "source_type \n",
      " spring                  17021\n",
      "shallow well            16824\n",
      "borehole                11949\n",
      "river/lake              10377\n",
      "rainwater harvesting     2295\n",
      "dam                       656\n",
      "other                     278\n",
      "Name: source_type, dtype: int64 \n",
      "\n",
      "source_class \n",
      " groundwater    45794\n",
      "surface        13328\n",
      "unknown          278\n",
      "Name: source_class, dtype: int64 \n",
      "\n",
      "waterpoint_type \n",
      " communal standpipe             28522\n",
      "hand pump                      17488\n",
      "other                           6380\n",
      "communal standpipe multiple     6103\n",
      "improved spring                  784\n",
      "cattle trough                    116\n",
      "dam                                7\n",
      "Name: waterpoint_type, dtype: int64 \n",
      "\n",
      "waterpoint_type_group \n",
      " communal standpipe    34625\n",
      "hand pump             17488\n",
      "other                  6380\n",
      "improved spring         784\n",
      "cattle trough           116\n",
      "dam                       7\n",
      "Name: waterpoint_type_group, dtype: int64 \n",
      "\n",
      "status_group \n",
      " functional                 32259\n",
      "non functional             22824\n",
      "functional needs repair     4317\n",
      "Name: status_group, dtype: int64 \n",
      "\n"
     ]
    }
   ],
   "source": [
    "frame = pd.DataFrame(df.dtypes)\n",
    "categoricals = list(frame.loc[frame.iloc[:,0]=='object'].iloc[:,0].keys())\n",
    "for col in categoricals:\n",
    "    print(col,\"\\n\",df[col].value_counts().sort_values().sort_values(ascending=False),\"\\n\")"
   ]
  },
  {
   "cell_type": "markdown",
   "metadata": {},
   "source": [
    "## Column Classification\n",
    "\n",
    "Here we classify each column according to what pipeline it needs to go to. This depends on how we want to deal with missing values, and on the data types."
   ]
  },
  {
   "cell_type": "code",
   "execution_count": 10,
   "metadata": {},
   "outputs": [],
   "source": [
    "cols_leave_out = [\n",
    "    'id',\n",
    "    'status_group',\n",
    "    'recorded_by',\n",
    "    'extraction_type_group',\n",
    "    'extraction_type_class',\n",
    "    'payment_type',\n",
    "    'quality_group',\n",
    "    'quantity_group',\n",
    "    'source_type',\n",
    "    'num_private',\n",
    "    'waterpoint_type_group',\n",
    "    'region_code']\n",
    "cols_nominal = [\n",
    "    'district_code',\n",
    "    'basin',\n",
    "    'region',\n",
    "    'lga',\n",
    "    'scheme_management',\n",
    "    'extraction_type',\n",
    "    'management',\n",
    "    'management_group',\n",
    "    'payment',\n",
    "    'water_quality',\n",
    "    'quantity',\n",
    "    'source',\n",
    "    'source_class',\n",
    "    'waterpoint_type']\n",
    "cols_boolean = [\n",
    "    'public_meeting',\n",
    "    'permit']\n",
    "cols_numerical = [\n",
    "    'construction_year',\n",
    "    'amount_tsh',   \n",
    "    'gps_height',    \n",
    "    'latitude',    \n",
    "    'longitude',\n",
    "    'population']\n",
    "cols_datetime = 'date_recorded'\n",
    "cols_big_cat =  [\n",
    "    'funder',\n",
    "    'installer',\n",
    "    'wpt_name',\n",
    "    'subvillage',\n",
    "    'ward',\n",
    "    'scheme_name']"
   ]
  },
  {
   "cell_type": "markdown",
   "metadata": {},
   "source": [
    "## Visualizations"
   ]
  },
  {
   "cell_type": "code",
   "execution_count": 11,
   "metadata": {},
   "outputs": [],
   "source": [
    "# plt.figure(figsize=(20,20), dpi= 80)\n",
    "# num_graph_df = df[cols_numerical+['status_group']]\n",
    "# num_graph_df.replace(0,np.NaN,inplace=True)\n",
    "# num_graph_df.dropna(inplace=True)\n",
    "# sns.pairplot(num_graph_df, kind=\"scatter\", hue=\"status_group\", plot_kws=dict(s=.5,alpha=.9, edgecolor='face', linewidth=2.5))\n",
    "# plt.show()"
   ]
  },
  {
   "cell_type": "markdown",
   "metadata": {},
   "source": [
    "# Pipeline\n",
    "\n",
    "## Pipeline Functions\n",
    "\n",
    "Here, we create custom functions that our pipeline will need. Rather than trying to impute missing values, we are creating boolean variables representing missing values when possible."
   ]
  },
  {
   "cell_type": "code",
   "execution_count": 12,
   "metadata": {},
   "outputs": [],
   "source": [
    "from sklearn.preprocessing import FunctionTransformer\n",
    "def zero_mean_imputer(col):\n",
    "    ans = col.apply(lambda v: pd.isna(v)*1)\n",
    "    ans.fillna(0,inplace=True)\n",
    "    ans = pd.concat([col.fillna(value=0),ans],axis=1)\n",
    "    return(ans)\n",
    "num_imputer_transformer = FunctionTransformer(zero_mean_imputer)\n",
    "\n",
    "# def missing_boolean(col):\n",
    "#     ans = col.apply(lambda v: pd.isna(v)*1)\n",
    "#     ans.fillna(0,inplace=True)\n",
    "#     return(ans)\n",
    "# boolean_treatment = FunctionTransformer(missing_boolean)\n",
    "\n",
    "def convert_bool(col):\n",
    "    ans = pd.DataFrame(col.astype('bool').astype('int8'))\n",
    "    ans2 = ans.apply(lambda v: pd.isna(v)*1)\n",
    "    ans2.fillna(0,inplace=True)\n",
    "    ans = pd.concat([ans,ans2],axis=1)\n",
    "    return(ans)\n",
    "boolean_conversion = FunctionTransformer(convert_bool)\n",
    "\n",
    "def date_time_convert(col):\n",
    "    as_date = col.astype('datetime64')\n",
    "    min_date = as_date.min()\n",
    "    ans = as_date - min_date\n",
    "    ans = pd.DataFrame(ans.iloc[:,0].dt.days.astype('int16'))\n",
    "    return(ans)\n",
    "datetime_conversion = FunctionTransformer(date_time_convert)"
   ]
  },
  {
   "cell_type": "markdown",
   "metadata": {},
   "source": [
    "## Pipeline Definitions"
   ]
  },
  {
   "cell_type": "code",
   "execution_count": 13,
   "metadata": {},
   "outputs": [],
   "source": [
    "datetime_pipeline = Pipeline([\n",
    "    ('dateconvert', datetime_conversion),\n",
    "    ('numnorm', StandardScaler())\n",
    "])\n",
    "\n",
    "nominal_pipeline = Pipeline([\n",
    "    ('onehotenc', OneHotEncoder(sparse = False, drop = 'first'))\n",
    "])\n",
    "\n",
    "numeric_pipeline = Pipeline([\n",
    "    ('numimputer', num_imputer_transformer),\n",
    "    ('numnorm', StandardScaler())\n",
    "])\n",
    "\n",
    "boolean_pipeline = Pipeline([\n",
    "    ('boolimputer', boolean_conversion)\n",
    "])"
   ]
  },
  {
   "cell_type": "markdown",
   "metadata": {},
   "source": [
    "## Column Tranformer"
   ]
  },
  {
   "cell_type": "code",
   "execution_count": 14,
   "metadata": {},
   "outputs": [],
   "source": [
    "ct_min = ColumnTransformer([\n",
    "    (\"pipe_nominal\", nominal_pipeline, cols_nominal), \n",
    "    (\"pipe_numerical\", numeric_pipeline, cols_numerical)\n",
    "])"
   ]
  },
  {
   "cell_type": "code",
   "execution_count": 15,
   "metadata": {},
   "outputs": [],
   "source": [
    "ct = ColumnTransformer(\n",
    "    transformers=[\n",
    "    (\"pipe_datetime\", datetime_pipeline, ['date_recorded']),\n",
    "    (\"pipe_nominal\", nominal_pipeline, cols_nominal), \n",
    "    (\"pipe_numerical\", numeric_pipeline, cols_numerical),\n",
    "    (\"pipe_boolean\", boolean_pipeline, cols_boolean)\n",
    "])"
   ]
  },
  {
   "cell_type": "markdown",
   "metadata": {},
   "source": [
    "# Baseline Model\n",
    "\n",
    "Now that we have our pipeline completely populated, we can run our data through our first model. First, let's just check how a dummy classifier would perform."
   ]
  },
  {
   "cell_type": "code",
   "execution_count": 16,
   "metadata": {},
   "outputs": [
    {
     "data": {
      "text/plain": [
       "0    25907\n",
       "1    21613\n",
       "Name: status_group, dtype: int64"
      ]
     },
     "execution_count": 16,
     "metadata": {},
     "output_type": "execute_result"
    }
   ],
   "source": [
    "y_train.status_group.value_counts()"
   ]
  },
  {
   "cell_type": "code",
   "execution_count": 17,
   "metadata": {},
   "outputs": [
    {
     "data": {
      "text/plain": [
       "0.5451809764309764"
      ]
     },
     "execution_count": 17,
     "metadata": {},
     "output_type": "execute_result"
    }
   ],
   "source": [
    "y_train.status_group.value_counts()[0]/y_train.status_group.value_counts().sum()"
   ]
  },
  {
   "cell_type": "markdown",
   "metadata": {},
   "source": [
    "Our data are very well-balanced so we would expect a model that ALWAYS predicts a working pump to be correct 54% of the time."
   ]
  },
  {
   "cell_type": "markdown",
   "metadata": {},
   "source": [
    "## Logistic Baseline"
   ]
  },
  {
   "cell_type": "code",
   "execution_count": 18,
   "metadata": {},
   "outputs": [],
   "source": [
    "data_obj_train = ct.fit_transform(X_train)\n",
    "data_obj_test = ct.transform(X_test)"
   ]
  },
  {
   "cell_type": "code",
   "execution_count": 21,
   "metadata": {},
   "outputs": [
    {
     "name": "stdout",
     "output_type": "stream",
     "text": [
      "0.7710437710437711\n",
      "0.7673400673400673\n",
      "              precision    recall  f1-score   support\n",
      "\n",
      "           0       0.75      0.85      0.80      6352\n",
      "           1       0.79      0.68      0.73      5528\n",
      "\n",
      "    accuracy                           0.77     11880\n",
      "   macro avg       0.77      0.76      0.76     11880\n",
      "weighted avg       0.77      0.77      0.77     11880\n",
      "\n"
     ]
    },
    {
     "name": "stderr",
     "output_type": "stream",
     "text": [
      "c:\\Users\\kapta\\anaconda3\\lib\\site-packages\\sklearn\\utils\\deprecation.py:87: FutureWarning: Function plot_confusion_matrix is deprecated; Function `plot_confusion_matrix` is deprecated in 1.0 and will be removed in 1.2. Use one of the class methods: ConfusionMatrixDisplay.from_predictions or ConfusionMatrixDisplay.from_estimator.\n",
      "  warnings.warn(msg, category=FutureWarning)\n"
     ]
    },
    {
     "data": {
      "image/png": "[encoded data removed]",
      "text/plain": [
       "<Figure size 720x720 with 2 Axes>"
      ]
     },
     "metadata": {
      "needs_background": "light"
     },
     "output_type": "display_data"
    }
   ],
   "source": [
    "from sklearn.linear_model import LogisticRegression\n",
    "logreg_pipe = Pipeline([('preprocess', ct),\n",
    "                      ('model',\n",
    "                       LogisticRegression(max_iter=1000))])\n",
    "log_model = logreg_pipe.fit(X_train,y_train.values.ravel())\n",
    "y_pred = logreg_pipe.predict(X_train)\n",
    "print(accuracy_score(y_train,y_pred))\n",
    "y_pred = logreg_pipe.predict(X_test)\n",
    "print(accuracy_score(y_test,y_pred))\n",
    "fig, ax = plt.subplots(figsize=(10, 10))\n",
    "plot_confusion_matrix(logreg_pipe, X_test, y_test, ax=ax)\n",
    "print(classification_report(y_test,y_pred))"
   ]
  },
  {
   "cell_type": "markdown",
   "metadata": {},
   "source": [
    "## Random Forest Classifier"
   ]
  },
  {
   "cell_type": "code",
   "execution_count": 26,
   "metadata": {},
   "outputs": [
    {
     "name": "stdout",
     "output_type": "stream",
     "text": [
      "0.7471170033670034\n",
      "0.7307239057239058\n",
      "              precision    recall  f1-score   support\n",
      "\n",
      "           0       0.69      0.90      0.78      6352\n",
      "           1       0.83      0.53      0.65      5528\n",
      "\n",
      "    accuracy                           0.73     11880\n",
      "   macro avg       0.76      0.72      0.71     11880\n",
      "weighted avg       0.75      0.73      0.72     11880\n",
      "\n"
     ]
    },
    {
     "name": "stderr",
     "output_type": "stream",
     "text": [
      "c:\\Users\\kapta\\anaconda3\\lib\\site-packages\\sklearn\\utils\\deprecation.py:87: FutureWarning: Function plot_confusion_matrix is deprecated; Function `plot_confusion_matrix` is deprecated in 1.0 and will be removed in 1.2. Use one of the class methods: ConfusionMatrixDisplay.from_predictions or ConfusionMatrixDisplay.from_estimator.\n",
      "  warnings.warn(msg, category=FutureWarning)\n"
     ]
    },
    {
     "data": {
      "image/png": "[encoded data removed]",
      "text/plain": [
       "<Figure size 720x720 with 2 Axes>"
      ]
     },
     "metadata": {
      "needs_background": "light"
     },
     "output_type": "display_data"
    }
   ],
   "source": [
    "from sklearn.ensemble import RandomForestClassifier\n",
    "\n",
    "rf_pipe = Pipeline([('preprocess', ct),\n",
    "                      ('model',\n",
    "                       RandomForestClassifier(\n",
    "                        max_depth= 8,\n",
    "                       ))])\n",
    "rf_pipe.fit(X_train,y_train.values.ravel())\n",
    "y_pred_train = rf_pipe.predict(X_train)\n",
    "print(accuracy_score(y_train,y_pred_train))\n",
    "y_pred_test = rf_pipe.predict(X_test)\n",
    "print(accuracy_score(y_test,y_pred_test))\n",
    "fig, ax = plt.subplots(figsize=(10, 10))\n",
    "plot_confusion_matrix(rf_pipe, X_test, y_test, ax=ax)\n",
    "print(classification_report(y_test,y_pred_test))"
   ]
  },
  {
   "cell_type": "markdown",
   "metadata": {},
   "source": [
    "## Random Forest with Randomized Search\n",
    "\n",
    "The parameters of the following randomized search are already optimized"
   ]
  },
  {
   "cell_type": "code",
   "execution_count": 23,
   "metadata": {},
   "outputs": [
    {
     "name": "stderr",
     "output_type": "stream",
     "text": [
      "c:\\Users\\kapta\\anaconda3\\lib\\site-packages\\sklearn\\model_selection\\_search.py:969: UserWarning: One or more of the test scores are non-finite: [nan nan nan nan]\n",
      "  warnings.warn(\n"
     ]
    },
    {
     "data": {
      "text/plain": [
       "RandomizedSearchCV(cv=5,\n",
       "                   estimator=Pipeline(steps=[('preprocess',\n",
       "                                              ColumnTransformer(transformers=[('pipe_datetime',\n",
       "                                                                               Pipeline(steps=[('dateconvert',\n",
       "                                                                                                FunctionTransformer(func=<function date_time_convert at 0x000001E255194B80>)),\n",
       "                                                                                               ('numnorm',\n",
       "                                                                                                StandardScaler())]),\n",
       "                                                                               ['date_recorded']),\n",
       "                                                                              ('pipe_nominal',\n",
       "                                                                               Pipeline(steps=[('onehotenc',\n",
       "                                                                                                OneHotEncoder(drop='first',\n",
       "                                                                                                              sparse=Fa...\n",
       "                                                                                                FunctionTransformer(func=<function convert_bool at 0x000001E255194940>))]),\n",
       "                                                                               ['public_meeting',\n",
       "                                                                                'permit'])])),\n",
       "                                             ('model',\n",
       "                                              RandomForestClassifier(max_depth=8))]),\n",
       "                   n_iter=4, n_jobs=14,\n",
       "                   param_distributions={'model__bootstrap': [True, False],\n",
       "                                        'model__max_depth': [13, 14, 15],\n",
       "                                        'model__max_features': ['log2'],\n",
       "                                        'model__min_samples_leaf': [6, 7, 8],\n",
       "                                        'model__min_samples_split': [5, 6, 7],\n",
       "                                        'model__n_estimators': [2050, 2100,\n",
       "                                                                2150]})"
      ]
     },
     "execution_count": 23,
     "metadata": {},
     "output_type": "execute_result"
    }
   ],
   "source": [
    "from sklearn.model_selection import RandomizedSearchCV\n",
    "\n",
    "n_estimators = [int(x) for x in np.linspace(start = 2050, stop = 2150, num = 3)]\n",
    "max_features = ['log2']\n",
    "max_depth = [13,14,15]\n",
    "min_samples_split = [5,6,7]\n",
    "min_samples_leaf = [6,7,8]\n",
    "bootstrap = [True, False]\n",
    "c = {'model__n_estimators': n_estimators,\n",
    "               'model__max_features': max_features,\n",
    "               'model__max_depth': max_depth,\n",
    "               'model__min_samples_split': min_samples_split,\n",
    "               'model__min_samples_leaf': min_samples_leaf,\n",
    "               'model__bootstrap': bootstrap,\n",
    "    }\n",
    "\n",
    "rs_pipe = RandomizedSearchCV(estimator=rf_pipe, param_distributions=c,n_iter = 4, cv = 5,n_jobs = 14)\n",
    "rs_pipe.fit(X_train, y_train.values.ravel())\n"
   ]
  },
  {
   "cell_type": "code",
   "execution_count": 24,
   "metadata": {},
   "outputs": [
    {
     "name": "stdout",
     "output_type": "stream",
     "text": [
      "0.7700968013468014\n",
      "0.7527777777777778\n"
     ]
    },
    {
     "name": "stderr",
     "output_type": "stream",
     "text": [
      "c:\\Users\\kapta\\anaconda3\\lib\\site-packages\\sklearn\\utils\\deprecation.py:87: FutureWarning: Function plot_confusion_matrix is deprecated; Function `plot_confusion_matrix` is deprecated in 1.0 and will be removed in 1.2. Use one of the class methods: ConfusionMatrixDisplay.from_predictions or ConfusionMatrixDisplay.from_estimator.\n",
      "  warnings.warn(msg, category=FutureWarning)\n"
     ]
    },
    {
     "name": "stdout",
     "output_type": "stream",
     "text": [
      "              precision    recall  f1-score   support\n",
      "\n",
      "           0       0.75      0.85      0.80      6352\n",
      "           1       0.79      0.68      0.73      5528\n",
      "\n",
      "    accuracy                           0.77     11880\n",
      "   macro avg       0.77      0.76      0.76     11880\n",
      "weighted avg       0.77      0.77      0.77     11880\n",
      "\n"
     ]
    },
    {
     "data": {
      "image/png": "[encoded data removed]",
      "text/plain": [
       "<Figure size 720x720 with 2 Axes>"
      ]
     },
     "metadata": {
      "needs_background": "light"
     },
     "output_type": "display_data"
    }
   ],
   "source": [
    "rs_best = rs_pipe.best_estimator_\n",
    "y_pred_train = rs_best.predict(X_train)\n",
    "print(accuracy_score(y_train,y_pred_train))\n",
    "y_pred_test = rs_best.predict(X_test)\n",
    "print(accuracy_score(y_test,y_pred_test))\n",
    "fig, ax = plt.subplots(figsize=(10, 10))\n",
    "plot_confusion_matrix(rs_best, X_test, y_test, ax=ax)\n",
    "print(classification_report(y_test,y_pred))\n"
   ]
  },
  {
   "cell_type": "code",
   "execution_count": null,
   "metadata": {},
   "outputs": [
    {
     "name": "stdout",
     "output_type": "stream",
     "text": [
      "Pipeline(steps=[('preprocess',\n",
      "                 ColumnTransformer(transformers=[('pipe_datetime',\n",
      "                                                  Pipeline(steps=[('dateconvert',\n",
      "                                                                   FunctionTransformer(func=<function date_time_convert at 0x000002996A231700>)),\n",
      "                                                                  ('numnorm',\n",
      "                                                                   StandardScaler())]),\n",
      "                                                  ['date_recorded']),\n",
      "                                                 ('pipe_nominal',\n",
      "                                                  Pipeline(steps=[('onehotenc',\n",
      "                                                                   OneHotEncoder(drop='first',\n",
      "                                                                                 sparse=False))]),\n",
      "                                                  ['district_code', 'basin',\n",
      "                                                   '...\n",
      "                                                  ['construction_year',\n",
      "                                                   'amount_tsh', 'gps_height',\n",
      "                                                   'latitude', 'longitude',\n",
      "                                                   'population']),\n",
      "                                                 ('pipe_boolean',\n",
      "                                                  Pipeline(steps=[('boolimputer',\n",
      "                                                                   FunctionTransformer(func=<function convert_bool at 0x0000029963177790>))]),\n",
      "                                                  ['public_meeting',\n",
      "                                                   'permit'])])),\n",
      "                ('model',\n",
      "                 RandomForestClassifier(max_depth=15, max_features='log2',\n",
      "                                        min_samples_leaf=6, min_samples_split=7,\n",
      "                                        n_estimators=2150))])\n",
      "{'model__n_estimators': 2150, 'model__min_samples_split': 7, 'model__min_samples_leaf': 6, 'model__max_features': 'log2', 'model__max_depth': 15, 'model__bootstrap': True}\n"
     ]
    }
   ],
   "source": [
    "print(rs_pipe.best_estimator_)\n",
    "print(rs_pipe.best_params_)"
   ]
  },
  {
   "cell_type": "code",
   "execution_count": 25,
   "metadata": {},
   "outputs": [
    {
     "name": "stdout",
     "output_type": "stream",
     "text": [
      "0.8277777777777777\n",
      "0.7916666666666666\n"
     ]
    },
    {
     "name": "stderr",
     "output_type": "stream",
     "text": [
      "c:\\Users\\kapta\\anaconda3\\lib\\site-packages\\sklearn\\utils\\deprecation.py:87: FutureWarning: Function plot_confusion_matrix is deprecated; Function `plot_confusion_matrix` is deprecated in 1.0 and will be removed in 1.2. Use one of the class methods: ConfusionMatrixDisplay.from_predictions or ConfusionMatrixDisplay.from_estimator.\n",
      "  warnings.warn(msg, category=FutureWarning)\n"
     ]
    },
    {
     "name": "stdout",
     "output_type": "stream",
     "text": [
      "              precision    recall  f1-score   support\n",
      "\n",
      "           0       0.77      0.87      0.82      6352\n",
      "           1       0.83      0.70      0.76      5528\n",
      "\n",
      "    accuracy                           0.79     11880\n",
      "   macro avg       0.80      0.79      0.79     11880\n",
      "weighted avg       0.80      0.79      0.79     11880\n",
      "\n"
     ]
    },
    {
     "data": {
      "image/png": "[encoded data removed]",
      "text/plain": [
       "<Figure size 720x720 with 2 Axes>"
      ]
     },
     "metadata": {
      "needs_background": "light"
     },
     "output_type": "display_data"
    }
   ],
   "source": [
    "from sklearn.ensemble import GradientBoostingClassifier\n",
    "gboost_pipe = Pipeline([('preprocess', ct),\n",
    "                      ('model',\n",
    "                       GradientBoostingClassifier(n_estimators=1000))])\n",
    "log_model = gboost_pipe.fit(X_train,y_train.values.ravel())\n",
    "y_pred = gboost_pipe.predict(X_train)\n",
    "print(accuracy_score(y_train,y_pred))\n",
    "y_pred = gboost_pipe.predict(X_test)\n",
    "print(accuracy_score(y_test,y_pred))\n",
    "fig, ax = plt.subplots(figsize=(10, 10))\n",
    "plot_confusion_matrix(gboost_pipe, X_test, y_test, ax=ax)\n",
    "print(classification_report(y_test,y_pred))"
   ]
  },
  {
   "cell_type": "code",
   "execution_count": 29,
   "metadata": {},
   "outputs": [
    {
     "data": {
      "text/plain": [
       "0     1390\n",
       "1     1399\n",
       "2      686\n",
       "3      263\n",
       "4        0\n",
       "5        0\n",
       "6        0\n",
       "7        0\n",
       "8        0\n",
       "9        0\n",
       "10      62\n",
       "11    1062\n",
       "12       0\n",
       "13    1368\n",
       "14       0\n",
       "15    1645\n",
       "16    1703\n",
       "17    1656\n",
       "18    1162\n",
       "19    1763\n",
       "20    2216\n",
       "21       0\n",
       "22    1510\n",
       "23     672\n",
       "24    1645\n",
       "Name: gps_height, dtype: int64"
      ]
     },
     "execution_count": 29,
     "metadata": {},
     "output_type": "execute_result"
    }
   ],
   "source": [
    "df.gps_height.head(25)"
   ]
  },
  {
   "cell_type": "code",
   "execution_count": 24,
   "metadata": {},
   "outputs": [
    {
     "ename": "SyntaxError",
     "evalue": "invalid syntax (3053126101.py, line 1)",
     "output_type": "error",
     "traceback": [
      "\u001b[1;36m  Input \u001b[1;32mIn [24]\u001b[1;36m\u001b[0m\n\u001b[1;33m    data =\u001b[0m\n\u001b[1;37m           ^\u001b[0m\n\u001b[1;31mSyntaxError\u001b[0m\u001b[1;31m:\u001b[0m invalid syntax\n"
     ]
    }
   ],
   "source": [
    "data = \n",
    "x = 'string'\n",
    "y = 'string'\n",
    "title_size = 30\n",
    "label_size = 15\n",
    "\n",
    "\n",
    "sns.set_context(\"talk\")\n",
    "fig, ax=plt.subplots(figsize=(15,8))\n",
    "sns.set_style(\"ticks\")\n",
    "p = sns.barplot(ax=ax, data=data, x=y, y=y)\n",
    "plt.setp(ax.get_xticklabels(), ha=\"right\", rotation=45,rotation_mode='anchor')\n",
    "\n",
    "p.set_xlabel('String',fontsize=label_size)\n",
    "p.set_ylabel('String',fontsize=label_size)\n",
    "p.set_title('String',fontsize=title_size)\n"
   ]
  }
 ],
 "metadata": {
  "kernelspec": {
   "display_name": "Python 3 (ipykernel)",
   "language": "python",
   "name": "python3"
  },
  "language_info": {
   "codemirror_mode": {
    "name": "ipython",
    "version": 3
   },
   "file_extension": ".py",
   "mimetype": "text/x-python",
   "name": "python",
   "nbconvert_exporter": "python",
   "pygments_lexer": "ipython3",
   "version": "3.9.12"
  },
  "vscode": {
   "interpreter": {
    "hash": "3f0653bd30555679cc60e5853b2204587bc8607f0666d413a468e937b04317b4"
   }
  }
 },
 "nbformat": 4,
 "nbformat_minor": 2
}
